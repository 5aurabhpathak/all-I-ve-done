{
 "cells": [
  {
   "cell_type": "code",
   "execution_count": 1,
   "metadata": {},
   "outputs": [],
   "source": [
    "import ccxt, abc, time, ssl\n",
    "from statistics import mean\n",
    "from threading import Thread, Event\n",
    "from matplotlib import pyplot as pl\n",
    "\n",
    "updated = Event()"
   ]
  },
  {
   "cell_type": "code",
   "execution_count": 2,
   "metadata": {
    "scrolled": true
   },
   "outputs": [],
   "source": [
    "class Exchange(ccxt.coinsecure):\n",
    "    def __init__(self):\n",
    "        self.data = None\n",
    "        super().__init__()\n",
    "        \n",
    "    def check_for_update(self):\n",
    "        def thread_exec():\n",
    "            prevTimestamp = None\n",
    "            while True:\n",
    "                try:\n",
    "                    response = self.fetchTicker('BTC/INR')\n",
    "                    if response['timestamp'] != prevTimestamp:\n",
    "                        self.data, prevTimestamp = response['info'], response['timestamp']\n",
    "                        print(self.data)\n",
    "                        updated.set()\n",
    "                except ssl.SSLEOFError: print('Non-fatal error occured.')\n",
    "                time.sleep(2)\n",
    "        thread = Thread(target=thread_exec)\n",
    "        thread.start()\n",
    "\n",
    "class Classifier(abc.ABC):\n",
    "    def __init__(self, exchange): self.exchange = exchange\n",
    "    \n",
    "    @abc.abstractmethod\n",
    "    def predict(self): pass"
   ]
  },
  {
   "cell_type": "code",
   "execution_count": 3,
   "metadata": {},
   "outputs": [],
   "source": [
    "class _Window(list):\n",
    "    def __init__(self, window_size=20):\n",
    "        self.__window_size, self.__actual_window_size = window_size, 0\n",
    "        super().__init__()\n",
    "        \n",
    "    def append(self, price):\n",
    "        super().append(price)\n",
    "        if self.__window_size > self.__actual_window_size: self.__actual_window_size += 1\n",
    "        else: del self[0]\n",
    "            \n",
    "class SMA(Classifier):\n",
    "    def __init__(self, exchange, *, window_size=20):\n",
    "        self.__window_size, self.predict_sp, self.predict_bp = window_size, None, None\n",
    "        self.__sp_window, self.__bp_window = _Window(window_size), _Window(window_size)\n",
    "        super().__init__(exchange)\n",
    "    \n",
    "    def predict(self):\n",
    "        def classify(avg, price):\n",
    "            if price < avg: return -1\n",
    "            if price > avg: return 1\n",
    "            return 0\n",
    "        \n",
    "        def thread_exec():\n",
    "            sp, bp = None, None\n",
    "            while True:\n",
    "                updated.wait()\n",
    "                if sp != self.exchange.data['ask']:\n",
    "                    sp = self.exchange.data['ask']\n",
    "                    self.__sp_window.append(sp)\n",
    "                    predict_sp = classify(mean(self.__sp_window), sp)\n",
    "                if bp != self.exchange.data['bid']:\n",
    "                    bp = self.exchange.data['bid']\n",
    "                    self.__bp_window.append(bp)\n",
    "                    predcit_bp = classify(mean(self.__bp_window), bp)\n",
    "                print(self.__sp_window, self.__bp_window)\n",
    "                print('sp: {}'.format(predict_sp), 'bp: {}'.format(predcit_bp))\n",
    "                updated.clear()\n",
    "        thread = Thread(target=thread_exec)\n",
    "        thread.start()"
   ]
  },
  {
   "cell_type": "code",
   "execution_count": 4,
   "metadata": {},
   "outputs": [],
   "source": [
    "exchange = Exchange()"
   ]
  },
  {
   "cell_type": "code",
   "execution_count": 5,
   "metadata": {},
   "outputs": [],
   "source": [
    "exchange.checkForUpdate()"
   ]
  },
  {
   "cell_type": "code",
   "execution_count": 6,
   "metadata": {},
   "outputs": [],
   "source": [
    "predictor = SMA(exchange, window_size=3)"
   ]
  },
  {
   "cell_type": "code",
   "execution_count": 7,
   "metadata": {},
   "outputs": [],
   "source": [
    "predictor.predict()"
   ]
  },
  {
   "cell_type": "code",
   "execution_count": 8,
   "metadata": {},
   "outputs": [
    {
     "name": "stdout",
     "output_type": "stream",
     "text": [
      "{'lastPrice': 58500000, 'timestamp': 1518518778320, 'bid': 57200000, 'ask': 58499800, 'fiatvolume': 342324301, 'coinvolume': 589400000, 'open': 58299897, 'high': 59000000, 'low': 57175099}\n",
      "[58499800] [57200000]\n",
      "sp: 0 bp: 0\n"
     ]
    }
   ],
   "source": [
    "class Plot:\n",
    "    def __init__(self, data, predicted):\n",
    "        self.fig, self.data, self.predicted = pl.figure('Live'), data, predicted\n",
    "        self.tick = [data]\n",
    "\n",
    "    def update(self):\n",
    "        def thread_exec():\n",
    "            while True:\n",
    "                updated.wait()\n",
    "                self.tick.append(data)\n",
    "                pl.plot(tick)\n",
    "                pl.scatter(predicted)\n",
    "                self.fig.canvas.draw()\n",
    "                updated.clear()\n",
    "        thread = Thread(target=thread_exec)\n",
    "        thread.start()"
   ]
  },
  {
   "cell_type": "code",
   "execution_count": 9,
   "metadata": {},
   "outputs": [
    {
     "ename": "NameError",
     "evalue": "name 'pl' is not defined",
     "output_type": "error",
     "traceback": [
      "\u001b[1;31m---------------------------------------------------------------------------\u001b[0m",
      "\u001b[1;31mNameError\u001b[0m                                 Traceback (most recent call last)",
      "\u001b[1;32m<ipython-input-9-be87fc6e2920>\u001b[0m in \u001b[0;36m<module>\u001b[1;34m()\u001b[0m\n\u001b[1;32m----> 1\u001b[1;33m \u001b[0mPlot\u001b[0m\u001b[1;33m(\u001b[0m\u001b[0mexchange\u001b[0m\u001b[1;33m.\u001b[0m\u001b[0mdata\u001b[0m\u001b[1;33m[\u001b[0m\u001b[1;34m'bid'\u001b[0m\u001b[1;33m]\u001b[0m\u001b[1;33m,\u001b[0m \u001b[0mpredictor\u001b[0m\u001b[1;33m.\u001b[0m\u001b[0mpredict_bp\u001b[0m\u001b[1;33m)\u001b[0m\u001b[1;33m.\u001b[0m\u001b[0mupdate\u001b[0m\u001b[1;33m(\u001b[0m\u001b[1;33m)\u001b[0m\u001b[1;33m\u001b[0m\u001b[0m\n\u001b[0m\u001b[0;32m      2\u001b[0m \u001b[0mpl\u001b[0m\u001b[1;33m.\u001b[0m\u001b[0mshow\u001b[0m\u001b[1;33m(\u001b[0m\u001b[1;33m)\u001b[0m\u001b[1;33m\u001b[0m\u001b[0m\n",
      "\u001b[1;32m<ipython-input-8-4ff7071450f7>\u001b[0m in \u001b[0;36m__init__\u001b[1;34m(self, data, predicted)\u001b[0m\n\u001b[0;32m      1\u001b[0m \u001b[1;32mclass\u001b[0m \u001b[0mPlot\u001b[0m\u001b[1;33m:\u001b[0m\u001b[1;33m\u001b[0m\u001b[0m\n\u001b[0;32m      2\u001b[0m     \u001b[1;32mdef\u001b[0m \u001b[0m__init__\u001b[0m\u001b[1;33m(\u001b[0m\u001b[0mself\u001b[0m\u001b[1;33m,\u001b[0m \u001b[0mdata\u001b[0m\u001b[1;33m,\u001b[0m \u001b[0mpredicted\u001b[0m\u001b[1;33m)\u001b[0m\u001b[1;33m:\u001b[0m\u001b[1;33m\u001b[0m\u001b[0m\n\u001b[1;32m----> 3\u001b[1;33m         \u001b[0mself\u001b[0m\u001b[1;33m.\u001b[0m\u001b[0mfig\u001b[0m\u001b[1;33m,\u001b[0m \u001b[0mself\u001b[0m\u001b[1;33m.\u001b[0m\u001b[0mdata\u001b[0m\u001b[1;33m,\u001b[0m \u001b[0mself\u001b[0m\u001b[1;33m.\u001b[0m\u001b[0mpredicted\u001b[0m \u001b[1;33m=\u001b[0m \u001b[0mpl\u001b[0m\u001b[1;33m.\u001b[0m\u001b[0mfigure\u001b[0m\u001b[1;33m(\u001b[0m\u001b[1;34m'Live'\u001b[0m\u001b[1;33m)\u001b[0m\u001b[1;33m,\u001b[0m \u001b[0mdata\u001b[0m\u001b[1;33m,\u001b[0m \u001b[0mpredicted\u001b[0m\u001b[1;33m\u001b[0m\u001b[0m\n\u001b[0m\u001b[0;32m      4\u001b[0m         \u001b[0mself\u001b[0m\u001b[1;33m.\u001b[0m\u001b[0mtick\u001b[0m \u001b[1;33m=\u001b[0m \u001b[1;33m[\u001b[0m\u001b[0mdata\u001b[0m\u001b[1;33m]\u001b[0m\u001b[1;33m\u001b[0m\u001b[0m\n\u001b[0;32m      5\u001b[0m \u001b[1;33m\u001b[0m\u001b[0m\n",
      "\u001b[1;31mNameError\u001b[0m: name 'pl' is not defined"
     ]
    }
   ],
   "source": [
    "Plot(exchange.data['bid'], predictor.predict_bp).update()\n",
    "pl.show()"
   ]
  },
  {
   "cell_type": "code",
   "execution_count": null,
   "metadata": {},
   "outputs": [],
   "source": []
  }
 ],
 "metadata": {
  "kernelspec": {
   "display_name": "Python 3",
   "language": "python",
   "name": "python3"
  },
  "language_info": {
   "codemirror_mode": {
    "name": "ipython",
    "version": 3
   },
   "file_extension": ".py",
   "mimetype": "text/x-python",
   "name": "python",
   "nbconvert_exporter": "python",
   "pygments_lexer": "ipython3",
   "version": "3.6.4"
  }
 },
 "nbformat": 4,
 "nbformat_minor": 2
}
