{
 "cells": [
  {
   "cell_type": "code",
   "execution_count": 1,
   "metadata": {},
   "outputs": [],
   "source": [
    "import ccxt, abc, time, ssl\n",
    "from statistics import mean\n",
    "from threading import Thread, Event\n",
    "from matplotlib import pyplot as pl\n",
    "\n",
    "updated = Event()"
   ]
  },
  {
   "cell_type": "code",
   "execution_count": 2,
   "metadata": {
    "scrolled": true
   },
   "outputs": [],
   "source": [
    "class Exchange(ccxt.coinsecure):\n",
    "    def __init__(self):\n",
    "        self.data = None\n",
    "        super().__init__()\n",
    "        \n",
    "    def check_for_update(self):\n",
    "        def thread_exec():\n",
    "            prevTimestamp = None\n",
    "            while True:\n",
    "                try:\n",
    "                    response = self.fetchTicker('BTC/INR')\n",
    "                    if response['timestamp'] != prevTimestamp:\n",
    "                        self.data, prevTimestamp = response['info'], response['timestamp']\n",
    "                        print(self.data)\n",
    "                        updated.set()\n",
    "                except ssl.SSLEOFError: print('Non-fatal error occured.')\n",
    "                time.sleep(2)\n",
    "        thread = Thread(target=thread_exec)\n",
    "        thread.start()\n",
    "\n",
    "class Classifier(abc.ABC):\n",
    "    def __init__(self, exchange): self.exchange = exchange\n",
    "    \n",
    "    @abc.abstractmethod\n",
    "    def predict(self): pass"
   ]
  },
  {
   "cell_type": "code",
   "execution_count": 3,
   "metadata": {},
   "outputs": [],
   "source": [
    "class _Window(list):\n",
    "    def __init__(self, window_size=20):\n",
    "        self.__window_size, self.__actual_window_size = window_size, 0\n",
    "        super().__init__()\n",
    "        \n",
    "    def append(self, price):\n",
    "        super().append(price)\n",
    "        if self.__window_size > self.__actual_window_size: self.__actual_window_size += 1\n",
    "        else: del self[0]\n",
    "            \n",
    "class SMA(Classifier):\n",
    "    def __init__(self, exchange, *, window_size=20):\n",
    "        self.__window_size, self.predict_sp, self.predict_bp = window_size, None, None\n",
    "        self.__sp_window, self.__bp_window = _Window(window_size), _Window(window_size)\n",
    "        super().__init__(exchange)\n",
    "    \n",
    "    def predict(self):\n",
    "        def classify(avg, price):\n",
    "            if price < avg: return -1\n",
    "            if price > avg: return 1\n",
    "            return 0\n",
    "        \n",
    "        def thread_exec():\n",
    "            sp, bp = None, None\n",
    "            while True:\n",
    "                updated.wait()\n",
    "                if sp != self.exchange.data['ask']:\n",
    "                    sp = self.exchange.data['ask']\n",
    "                    self.__sp_window.append(sp)\n",
    "                    predict_sp = classify(mean(self.__sp_window), sp)\n",
    "                if bp != self.exchange.data['bid']:\n",
    "                    bp = self.exchange.data['bid']\n",
    "                    self.__bp_window.append(bp)\n",
    "                    predcit_bp = classify(mean(self.__bp_window), bp)\n",
    "                print(self.__sp_window, self.__bp_window)\n",
    "                print('sp: {}'.format(predict_sp), 'bp: {}'.format(predcit_bp))\n",
    "                updated.clear()\n",
    "        thread = Thread(target=thread_exec)\n",
    "        thread.start()"
   ]
  },
  {
   "cell_type": "code",
   "execution_count": 4,
   "metadata": {},
   "outputs": [],
   "source": [
    "exchange = Exchange()"
   ]
  },
  {
   "cell_type": "code",
   "execution_count": 5,
   "metadata": {},
   "outputs": [],
   "source": [
    "exchange.checkForUpdate()"
   ]
  },
  {
   "cell_type": "code",
   "execution_count": 6,
   "metadata": {},
   "outputs": [],
   "source": [
    "predictor = SMA(exchange, window_size=3)"
   ]
  },
  {
   "cell_type": "code",
   "execution_count": 7,
   "metadata": {},
   "outputs": [],
   "source": [
    "predictor.predict()"
   ]
  },
  {
   "cell_type": "code",
   "execution_count": 8,
   "metadata": {},
   "outputs": [
    {
     "name": "stdout",
     "output_type": "stream",
     "text": [
      "{'lastPrice': 58500000, 'timestamp': 1518518778320, 'bid': 57200000, 'ask': 58499800, 'fiatvolume': 342324301, 'coinvolume': 589400000, 'open': 58299897, 'high': 59000000, 'low': 57175099}\n",
      "[58499800] [57200000]\n",
      "sp: 0 bp: 0\n"
     ]
    }
   ],
   "source": [
    "class Plot:\n",
    "    def __init__(self, data, predicted):\n",
    "        self.fig, self.data, self.predicted = pl.figure('Live'), data, predicted\n",
    "        self.tick = [data]\n",
    "\n",
    "    def update(self):\n",
    "        def thread_exec():\n",
    "            while True:\n",
    "                updated.wait()\n",
    "                self.tick.append(data)\n",
    "                pl.plot(tick)\n",
    "                pl.scatter(predicted)\n",
    "                self.fig.canvas.draw()\n",
    "                updated.clear()\n",
    "        thread = Thread(target=thread_exec)\n",
    "        thread.start()"
   ]
  },
  {
   "cell_type": "code",
   "execution_count": 9,
   "metadata": {},
   "outputs": [
    {
     "data": {
      "text/plain": [
       "<matplotlib.figure.Figure at 0x8d2621c828>"
      ]
     },
     "metadata": {},
     "output_type": "display_data"
    },
    {
     "name": "stderr",
     "output_type": "stream",
     "text": [
      "Exception in thread Thread-6:\n",
      "Traceback (most recent call last):\n",
      "  File \"c:\\program files\\python36\\lib\\site-packages\\urllib3\\connectionpool.py\", line 387, in _make_request\n",
      "    six.raise_from(e, None)\n",
      "  File \"<string>\", line 2, in raise_from\n",
      "  File \"c:\\program files\\python36\\lib\\site-packages\\urllib3\\connectionpool.py\", line 383, in _make_request\n",
      "    httplib_response = conn.getresponse()\n",
      "  File \"c:\\program files\\python36\\lib\\http\\client.py\", line 1331, in getresponse\n",
      "    response.begin()\n",
      "  File \"c:\\program files\\python36\\lib\\http\\client.py\", line 297, in begin\n",
      "    version, status, reason = self._read_status()\n",
      "  File \"c:\\program files\\python36\\lib\\http\\client.py\", line 258, in _read_status\n",
      "    line = str(self.fp.readline(_MAXLINE + 1), \"iso-8859-1\")\n",
      "  File \"c:\\program files\\python36\\lib\\socket.py\", line 586, in readinto\n",
      "    return self._sock.recv_into(b)\n",
      "  File \"c:\\program files\\python36\\lib\\ssl.py\", line 1009, in recv_into\n",
      "    return self.read(nbytes, buffer)\n",
      "  File \"c:\\program files\\python36\\lib\\ssl.py\", line 871, in read\n",
      "    return self._sslobj.read(len, buffer)\n",
      "  File \"c:\\program files\\python36\\lib\\ssl.py\", line 631, in read\n",
      "    v = self._sslobj.read(len, buffer)\n",
      "socket.timeout: The read operation timed out\n",
      "\n",
      "During handling of the above exception, another exception occurred:\n",
      "\n",
      "Traceback (most recent call last):\n",
      "  File \"c:\\program files\\python36\\lib\\site-packages\\requests\\adapters.py\", line 440, in send\n",
      "    timeout=timeout\n",
      "  File \"c:\\program files\\python36\\lib\\site-packages\\urllib3\\connectionpool.py\", line 639, in urlopen\n",
      "    _stacktrace=sys.exc_info()[2])\n",
      "  File \"c:\\program files\\python36\\lib\\site-packages\\urllib3\\util\\retry.py\", line 357, in increment\n",
      "    raise six.reraise(type(error), error, _stacktrace)\n",
      "  File \"c:\\program files\\python36\\lib\\site-packages\\urllib3\\packages\\six.py\", line 686, in reraise\n",
      "    raise value\n",
      "  File \"c:\\program files\\python36\\lib\\site-packages\\urllib3\\connectionpool.py\", line 601, in urlopen\n",
      "    chunked=chunked)\n",
      "  File \"c:\\program files\\python36\\lib\\site-packages\\urllib3\\connectionpool.py\", line 389, in _make_request\n",
      "    self._raise_timeout(err=e, url=url, timeout_value=read_timeout)\n",
      "  File \"c:\\program files\\python36\\lib\\site-packages\\urllib3\\connectionpool.py\", line 309, in _raise_timeout\n",
      "    raise ReadTimeoutError(self, url, \"Read timed out. (read timeout=%s)\" % timeout_value)\n",
      "urllib3.exceptions.ReadTimeoutError: HTTPSConnectionPool(host='api.coinsecure.in', port=443): Read timed out. (read timeout=10)\n",
      "\n",
      "During handling of the above exception, another exception occurred:\n",
      "\n",
      "Traceback (most recent call last):\n",
      "  File \"c:\\program files\\python36\\lib\\site-packages\\ccxt\\base\\exchange.py\", line 349, in fetch\n",
      "    proxies=self.proxies\n",
      "  File \"c:\\program files\\python36\\lib\\site-packages\\requests\\sessions.py\", line 508, in request\n",
      "    resp = self.send(prep, **send_kwargs)\n",
      "  File \"c:\\program files\\python36\\lib\\site-packages\\requests\\sessions.py\", line 618, in send\n",
      "    r = adapter.send(request, **kwargs)\n",
      "  File \"c:\\program files\\python36\\lib\\site-packages\\requests\\adapters.py\", line 521, in send\n",
      "    raise ReadTimeout(e, request=request)\n",
      "requests.exceptions.ReadTimeout: HTTPSConnectionPool(host='api.coinsecure.in', port=443): Read timed out. (read timeout=10)\n",
      "\n",
      "During handling of the above exception, another exception occurred:\n",
      "\n",
      "Traceback (most recent call last):\n",
      "  File \"c:\\program files\\python36\\lib\\threading.py\", line 916, in _bootstrap_inner\n",
      "    self.run()\n",
      "  File \"c:\\program files\\python36\\lib\\threading.py\", line 864, in run\n",
      "    self._target(*self._args, **self._kwargs)\n",
      "  File \"<ipython-input-2-24497371a2f6>\", line 11, in thread_exec\n",
      "    response = self.fetchTicker('BTC/INR')\n",
      "  File \"c:\\program files\\python36\\lib\\site-packages\\ccxt\\coinsecure.py\", line 202, in fetch_ticker\n",
      "    response = self.publicGetExchangeTicker(params)\n",
      "  File \"c:\\program files\\python36\\lib\\site-packages\\ccxt\\base\\exchange.py\", line 302, in request\n",
      "    return self.fetch2(path, api, method, params, headers, body)\n",
      "  File \"c:\\program files\\python36\\lib\\site-packages\\ccxt\\base\\exchange.py\", line 299, in fetch2\n",
      "    return self.fetch(request['url'], request['method'], request['headers'], request['body'])\n",
      "  File \"c:\\program files\\python36\\lib\\site-packages\\ccxt\\base\\exchange.py\", line 355, in fetch\n",
      "    raise RequestTimeout(' '.join([self.id, method, url, 'request timeout']))\n",
      "ccxt.base.errors.RequestTimeout: coinsecure GET https://api.coinsecure.in/v1/exchange/ticker request timeout\n",
      "\n"
     ]
    }
   ],
   "source": [
    "Plot(exchange.data['bid'], predictor.predict_bp).update()\n",
    "pl.show()"
   ]
  },
  {
   "cell_type": "code",
   "execution_count": null,
   "metadata": {},
   "outputs": [],
   "source": []
  }
 ],
 "metadata": {
  "kernelspec": {
   "display_name": "Python 3",
   "language": "python",
   "name": "python3"
  },
  "language_info": {
   "codemirror_mode": {
    "name": "ipython",
    "version": 3
   },
   "file_extension": ".py",
   "mimetype": "text/x-python",
   "name": "python",
   "nbconvert_exporter": "python",
   "pygments_lexer": "ipython3",
   "version": "3.6.4"
  }
 },
 "nbformat": 4,
 "nbformat_minor": 2
}
