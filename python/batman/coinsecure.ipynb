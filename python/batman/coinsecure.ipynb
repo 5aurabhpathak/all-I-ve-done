{
 "cells": [
  {
   "cell_type": "code",
   "execution_count": 84,
   "metadata": {},
   "outputs": [],
   "source": [
    "import ccxt, abc\n",
    "from statistics import mean"
   ]
  },
  {
   "cell_type": "code",
   "execution_count": 62,
   "metadata": {
    "scrolled": true
   },
   "outputs": [],
   "source": [
    "class Classifier(abc.ABC):\n",
    "    def __init__(self):\n",
    "        self.exchange = ccxt.coinsecure()\n",
    "        super().__init__()\n",
    "    \n",
    "    @abc.abstractmethod\n",
    "    def predict(self): pass"
   ]
  },
  {
   "cell_type": "code",
   "execution_count": 134,
   "metadata": {},
   "outputs": [],
   "source": [
    "class _Window(list):\n",
    "    def __init__(self, window_size=20):\n",
    "        self.__window_size, self.__actual_window_size = window_size, 0\n",
    "        super().__init__()\n",
    "        \n",
    "    def append(self, price):\n",
    "        super().append(price)\n",
    "        if self.__window_size > self.__actual_window_size: self.__actual_window_size += 1\n",
    "        else: del self[0]\n",
    "            \n",
    "class SMA(Classifier):\n",
    "    def __init__(self, window_size=20):\n",
    "        global __Window\n",
    "        self.__window_size = window_size\n",
    "        self.__sp_window, self.__bp_window = _Window(window_size), _Window(window_size)\n",
    "        super().__init__()\n",
    "    \n",
    "    def predict(self):\n",
    "        def classify(avg, price):\n",
    "            if price < avg: return -1\n",
    "            if price > avg: return 1\n",
    "            return 0\n",
    "        #response = self.exchange.fetchTicker('BTC/INR')\n",
    "        #to do -- convert response to a tuple of SP and BP\n",
    "        sp, bp = 0, 0\n",
    "        self.__sp_window.append(sp), self.__bp_window.append(bp)\n",
    "        return classify(mean(self.__sp_window), sp), classify(mean(self.__bp_window), bp)"
   ]
  },
  {
   "cell_type": "code",
   "execution_count": 150,
   "metadata": {
    "scrolled": true
   },
   "outputs": [],
   "source": [
    "predictor = SMA(3)"
   ]
  },
  {
   "cell_type": "code",
   "execution_count": 161,
   "metadata": {
    "scrolled": true
   },
   "outputs": [
    {
     "name": "stdout",
     "output_type": "stream",
     "text": [
      "[0, 0, 0]\n"
     ]
    }
   ],
   "source": [
    "print(predictor._SMA__sp_window)"
   ]
  },
  {
   "cell_type": "code",
   "execution_count": 160,
   "metadata": {},
   "outputs": [
    {
     "data": {
      "text/plain": [
       "(0, 0)"
      ]
     },
     "execution_count": 160,
     "metadata": {},
     "output_type": "execute_result"
    }
   ],
   "source": [
    "predictor.predict()"
   ]
  },
  {
   "cell_type": "code",
   "execution_count": null,
   "metadata": {
    "collapsed": true
   },
   "outputs": [],
   "source": []
  }
 ],
 "metadata": {
  "kernelspec": {
   "display_name": "Python 3",
   "language": "python",
   "name": "python3"
  },
  "language_info": {
   "codemirror_mode": {
    "name": "ipython",
    "version": 3
   },
   "file_extension": ".py",
   "mimetype": "text/x-python",
   "name": "python",
   "nbconvert_exporter": "python",
   "pygments_lexer": "ipython3",
   "version": "3.6.2"
  }
 },
 "nbformat": 4,
 "nbformat_minor": 2
}
