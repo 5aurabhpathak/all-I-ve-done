{
 "cells": [
  {
   "cell_type": "code",
   "execution_count": 1,
   "metadata": {},
   "outputs": [],
   "source": [
    "import ccxt, abc, time, ssl\n",
    "from statistics import mean\n",
    "from threading import Thread, Event\n",
    "\n",
    "updated = Event()"
   ]
  },
  {
   "cell_type": "code",
   "execution_count": 2,
   "metadata": {
    "collapsed": true,
    "scrolled": true
   },
   "outputs": [],
   "source": [
    "class Exchange(ccxt.coinsecure):\n",
    "    def __init__(self):\n",
    "        self.data = None\n",
    "        super().__init__()\n",
    "        \n",
    "    def check_for_update(self):\n",
    "        def thread_exec():\n",
    "            prevTimestamp = None\n",
    "            while True:\n",
    "                try:\n",
    "                    response = self.fetchTicker('BTC/INR')\n",
    "                    if response['timestamp'] != prevTimestamp:\n",
    "                        self.data, prevTimestamp = response['info'], response['timestamp']\n",
    "                        print(self.data)\n",
    "                        updated.set()\n",
    "                    else: updated.clear()\n",
    "                except ssl.SSLEOFError: print('Non-fatal error occured.')\n",
    "                time.sleep(2)\n",
    "        thread = Thread(target=thread_exec)\n",
    "        thread.start()\n",
    "\n",
    "class Classifier(abc.ABC):\n",
    "    def __init__(self, exchange): self.exchange = exchange\n",
    "    \n",
    "    @abc.abstractmethod\n",
    "    def predict(self): pass"
   ]
  },
  {
   "cell_type": "code",
   "execution_count": 3,
   "metadata": {},
   "outputs": [],
   "source": [
    "class _Window(list):\n",
    "    def __init__(self, window_size=20):\n",
    "        self.__window_size, self.__actual_window_size = window_size, 0\n",
    "        super().__init__()\n",
    "        \n",
    "    def append(self, price):\n",
    "        super().append(price)\n",
    "        if self.__window_size > self.__actual_window_size: self.__actual_window_size += 1\n",
    "        else: del self[0]\n",
    "            \n",
    "class SMA(Classifier):\n",
    "    def __init__(self, exchange, *, window_size=20):\n",
    "        self.__window_size = window_size\n",
    "        self.__sp_window, self.__bp_window = _Window(window_size), _Window(window_size)\n",
    "        super().__init__(exchange)\n",
    "    \n",
    "    def predict(self):\n",
    "        def classify(avg, price):\n",
    "            if price < avg: return -1\n",
    "            if price > avg: return 1\n",
    "            return 0\n",
    "        \n",
    "        def thread_exec():\n",
    "            sp, bp, predict_sp, predict_bp = None, None, None, None\n",
    "            while True:\n",
    "                updated.wait()\n",
    "                if sp != self.exchange.data['ask']:\n",
    "                    sp = self.exchange.data['ask']\n",
    "                    self.__sp_window.append(sp)\n",
    "                    predict_sp = classify(mean(self.__sp_window), sp)\n",
    "                if bp != self.exchange.data['bid']:\n",
    "                    bp = self.exchange.data['bid']\n",
    "                    self.__bp_window.append(bp)\n",
    "                    predcit_bp = classify(mean(self.__bp_window), bp)\n",
    "                print(self.__sp_window, self.__bp_window)\n",
    "                print('sp: {}'.format(predict_sp), 'bp: {}'.format(predcit_bp))\n",
    "                time.sleep(2)\n",
    "        thread = Thread(target=thread_exec)\n",
    "        thread.start()"
   ]
  },
  {
   "cell_type": "code",
   "execution_count": 4,
   "metadata": {},
   "outputs": [],
   "source": [
    "exchange = Exchange()"
   ]
  },
  {
   "cell_type": "code",
   "execution_count": 5,
   "metadata": {},
   "outputs": [],
   "source": [
    "exchange.checkForUpdate()"
   ]
  },
  {
   "cell_type": "code",
   "execution_count": 6,
   "metadata": {
    "collapsed": true
   },
   "outputs": [],
   "source": [
    "predictor = SMA(exchange, window_size=3)"
   ]
  },
  {
   "cell_type": "code",
   "execution_count": 7,
   "metadata": {},
   "outputs": [
    {
     "name": "stdout",
     "output_type": "stream",
     "text": [
      "{'lastPrice': 57650000, 'timestamp': 1518473183640, 'bid': 57610100, 'ask': 58700000, 'fiatvolume': 481711009, 'coinvolume': 833000000, 'open': 58299897, 'high': 59000000, 'low': 55255000}[58700000]\n",
      " [57610100]\n",
      "sp: 0 bp: 0\n",
      "[58700000] [57610100]\n",
      "sp: 0 bp: 0\n",
      "{'lastPrice': 57610085, 'timestamp': 1518474457751, 'bid': 57610100, 'ask': 58700000, 'fiatvolume': 483727362, 'coinvolume': 836500000, 'open': 58299897, 'high': 59000000, 'low': 55255000}\n",
      "[58700000] [57610100]\n",
      "sp: 0 bp: 0\n",
      "[58700000] [57610100]\n",
      "sp: 0 bp: 0\n"
     ]
    }
   ],
   "source": [
    "predictor.predict()"
   ]
  }
 ],
 "metadata": {
  "kernelspec": {
   "display_name": "Python 3",
   "language": "python",
   "name": "python3"
  },
  "language_info": {
   "codemirror_mode": {
    "name": "ipython",
    "version": 3
   },
   "file_extension": ".py",
   "mimetype": "text/x-python",
   "name": "python",
   "nbconvert_exporter": "python",
   "pygments_lexer": "ipython3",
   "version": "3.6.4"
  }
 },
 "nbformat": 4,
 "nbformat_minor": 2
}
